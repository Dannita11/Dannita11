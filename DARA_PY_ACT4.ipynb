{
  "nbformat": 4,
  "nbformat_minor": 0,
  "metadata": {
    "colab": {
      "provenance": [],
      "authorship_tag": "ABX9TyNDs6QBHJej81QRmgNotGtr",
      "include_colab_link": true
    },
    "kernelspec": {
      "name": "python3",
      "display_name": "Python 3"
    },
    "language_info": {
      "name": "python"
    }
  },
  "cells": [
    {
      "cell_type": "markdown",
      "metadata": {
        "id": "view-in-github",
        "colab_type": "text"
      },
      "source": [
        "<a href=\"https://colab.research.google.com/github/Dannita11/Dannita11/blob/main/DARA_PY_ACT4.ipynb\" target=\"_parent\"><img src=\"https://colab.research.google.com/assets/colab-badge.svg\" alt=\"Open In Colab\"/></a>"
      ]
    },
    {
      "cell_type": "markdown",
      "source": [
        "1.- Algoritmo que lea 3 calificaciones calcule el promedio del alumno y desplegar:\n",
        "\n",
        "Si prom < 30 Repetir\n",
        "\n",
        "Si prom >=30 y prom <60 extraordinario\n",
        "\n",
        "Si prom >=60 y prom <70 suficiente\n",
        "\n",
        "Si prom >=70 y prom <80 Regular\n",
        "\n",
        "Si prom >=80 y prom <90 bien\n",
        "\n",
        "Si prom >=90 y prom <98 muy bien\n",
        "\n",
        "Si prom >=98 y prom <=100 excelente\n",
        "\n",
        "Si prom >100 Error en promedio\n",
        "\n",
        "Realizar el algoritmo optimizado"
      ],
      "metadata": {
        "id": "gtYpNpTEFxcd"
      }
    },
    {
      "cell_type": "code",
      "source": [
        "calif1 = int(input(\"Ingrese calificacion 1: \"))\n",
        "calif2 = int(input(\"Ingrese calificacion 2: \"))\n",
        "calif3 = int(input(\"Ingrese calificacion 3: \"))\n",
        "prom = float((calif1 + calif2 + calif3)/3)\n",
        "\n",
        "if prom < 30:\n",
        "  print(\"Repetir\")\n",
        "elif prom >= 30 and prom < 60:\n",
        "  print(\"Extraordinario\")\n",
        "elif prom >= 60 and prom < 70:\n",
        "  print(\"Suficiente\")\n",
        "elif prom >= 70 and prom < 80:\n",
        "  print(\"Regular\")\n",
        "elif prom >= 80 and prom < 90:\n",
        "  print(\"Bien\")\n",
        "elif prom >= 90 and prom < 98:\n",
        "  print(\"Muy bien\")\n",
        "elif prom >= 98 and prom <= 100:\n",
        "  print(\"Excelente\")\n",
        "else:\n",
        "  print(\"Error en promedio\")"
      ],
      "metadata": {
        "id": "dv7KA5V_F3ym"
      },
      "execution_count": null,
      "outputs": []
    }
  ]
}