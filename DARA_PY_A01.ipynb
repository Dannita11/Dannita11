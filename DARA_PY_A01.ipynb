{
  "nbformat": 4,
  "nbformat_minor": 0,
  "metadata": {
    "colab": {
      "provenance": [],
      "authorship_tag": "ABX9TyOVO20IM3/FR0jEi6HTLAZx",
      "include_colab_link": true
    },
    "kernelspec": {
      "name": "python3",
      "display_name": "Python 3"
    },
    "language_info": {
      "name": "python"
    }
  },
  "cells": [
    {
      "cell_type": "markdown",
      "metadata": {
        "id": "view-in-github",
        "colab_type": "text"
      },
      "source": [
        "<a href=\"https://colab.research.google.com/github/Dannita11/Dannita11/blob/main/DARA_PY_A01.ipynb\" target=\"_parent\"><img src=\"https://colab.research.google.com/assets/colab-badge.svg\" alt=\"Open In Colab\"/></a>"
      ]
    },
    {
      "cell_type": "markdown",
      "source": [
        "Danna Ayram Redona Arce 368909\n",
        "\n",
        "12/02/2024\n",
        "\n",
        "DARA_PY_A01_432\n",
        "\n",
        "NOTA : EJERCICIOS ( 1,2,3 y 4 ) PARA SER RESUELTOS USANDO EXCLUSIVAMENTE CONDICIONES SIMPLES\n",
        "\n",
        "1. Programa en Python que lea 2 números enteros, usar una condición y analizar los dos números y desplegar cual de los números es el mayor.\n"
      ],
      "metadata": {
        "id": "ayN507ZzcJna"
      }
    },
    {
      "cell_type": "code",
      "execution_count": 3,
      "metadata": {
        "colab": {
          "base_uri": "https://localhost:8080/"
        },
        "id": "Clx_3yYGbrsn",
        "outputId": "efa001fd-daef-4a65-865f-92ddbf41ed3e"
      },
      "outputs": [
        {
          "output_type": "stream",
          "name": "stdout",
          "text": [
            "Dame el numero 1: 5\n",
            "Dame el numero 2: 5\n",
            "Los números son iguales\n"
          ]
        }
      ],
      "source": [
        "num1 = int(input(\"Dame el numero 1: \"))\n",
        "num2 = int(input(\"Dame el numero 2: \"))\n",
        "\n",
        "if num1 > num2:\n",
        "    print(\"Num1 es mayor\")\n",
        "\n",
        "if num2 > num1:\n",
        "    print(\"Num2 es mayor\")\n",
        "\n",
        "if num1 == num2:\n",
        "    print(\"Los números son iguales\")\n"
      ]
    },
    {
      "cell_type": "markdown",
      "source": [
        "2.- Programa en PythonAlgoritmo que lea 4 calificaciones de un alumno, calcular y desplegar el promedio acompañado de la leyenda \"APROBADO\" o \"REPROBADO\""
      ],
      "metadata": {
        "id": "I9-6-OjHeSBp"
      }
    },
    {
      "cell_type": "code",
      "source": [
        "cal1 = int(input(\"Ingrese la calificación 1: \"))\n",
        "cal2 = int(input(\"Ingrese la calificación 2: \"))\n",
        "cal3 = int(input(\"Ingrese la calificación 3: \"))\n",
        "cal4 = int(input(\"Ingrese la calificación 4: \"))\n",
        "prom = (cal1 + cal2 + cal3 + cal4) / 4\n",
        "\n",
        "if prom >= 60:\n",
        "    print(\"¡Aprobado!\")\n",
        "\n",
        "if prom < 60:\n",
        "    print(\"¡Reprobado!\")"
      ],
      "metadata": {
        "colab": {
          "base_uri": "https://localhost:8080/"
        },
        "id": "WqDV8P0WeXqP",
        "outputId": "9434a6c7-410c-4293-efba-832726a0f8b0"
      },
      "execution_count": 5,
      "outputs": [
        {
          "output_type": "stream",
          "name": "stdout",
          "text": [
            "Ingrese la calificación 1: 60\n",
            "Ingrese la calificación 2: 60\n",
            "Ingrese la calificación 3: 60\n",
            "Ingrese la calificación 4: 60\n",
            "¡Aprobado!\n"
          ]
        }
      ]
    },
    {
      "cell_type": "markdown",
      "source": [
        "3.- Programa en PythonAlgoritmo que a través de opciones (1.- HOMBRE 2.- MUJER ) preguntar al usuario cual es su sexo y desplegar la leyenda “HOMBRE ”, “MUJER”\n",
        "\n"
      ],
      "metadata": {
        "id": "G0xThu4JfeJO"
      }
    },
    {
      "cell_type": "code",
      "source": [
        "sexo = int(input(\"¿Cuál es tu sexo? \"))\n",
        "\n",
        "if sexo == 1:\n",
        "    print(\"Eres Hombre\")\n",
        "\n",
        "if sexo == 2:\n",
        "    print(\"Eres Mujer\")"
      ],
      "metadata": {
        "colab": {
          "base_uri": "https://localhost:8080/"
        },
        "id": "bmK2Y1iugG9G",
        "outputId": "ab876721-80bc-493e-e3ea-940251ca6406"
      },
      "execution_count": 7,
      "outputs": [
        {
          "output_type": "stream",
          "name": "stdout",
          "text": [
            "¿Cuál es tu sexo?2\n",
            "Eres Mujer\n"
          ]
        }
      ]
    },
    {
      "cell_type": "markdown",
      "source": [
        "4.- Programa en Python que lea un número entero, y desplegar si el número es “PAR” o “IMPAR”"
      ],
      "metadata": {
        "id": "tZSqA1c4g-SQ"
      }
    },
    {
      "cell_type": "code",
      "source": [
        "num = int(input(\"Ingresa un número: \"))\n",
        "\n",
        "if num %2 == 0:\n",
        "    print(\"Numero par\")\n",
        "\n",
        "if num %2 == 1:\n",
        "    print(\"Numero impar\")"
      ],
      "metadata": {
        "colab": {
          "base_uri": "https://localhost:8080/"
        },
        "id": "RT5nVlFBhArg",
        "outputId": "abe8cf63-2019-458a-b17f-8219d610889b"
      },
      "execution_count": 9,
      "outputs": [
        {
          "output_type": "stream",
          "name": "stdout",
          "text": [
            "Ingresa un número: 5\n",
            "Numero impar\n"
          ]
        }
      ]
    },
    {
      "cell_type": "markdown",
      "source": [
        "NOTA: EJERCICIOS (5,6,7 y 8) PARA SER RESUELTOS USANDO CONDICIÓN COMPUESTA\n",
        "\n",
        "\n",
        "5.- Programa en Python que lea 2 números enteros, usar una condición y analizar los dos números y desplegar cual de los números es el mayor."
      ],
      "metadata": {
        "id": "pxrlD2PihYJc"
      }
    },
    {
      "cell_type": "code",
      "source": [
        "num1 = int(input(\"Dame el numero 1: \"))\n",
        "num2 = int(input(\"Dame el numero 2: \"))\n",
        "\n",
        "if num1 > num2:\n",
        "    print(\"Num1 es mayor\")\n",
        "else:\n",
        "    print(\"Num2 es mayor\")"
      ],
      "metadata": {
        "colab": {
          "base_uri": "https://localhost:8080/"
        },
        "id": "rWNzBjxchpIL",
        "outputId": "ba488f89-1107-489e-f059-a3e768a1c7d0"
      },
      "execution_count": 10,
      "outputs": [
        {
          "output_type": "stream",
          "name": "stdout",
          "text": [
            "Dame el numero 1: 5\n",
            "Dame el numero 2: 6\n",
            "Num2 es mayor\n"
          ]
        }
      ]
    },
    {
      "cell_type": "markdown",
      "source": [
        "6.- Programa en Python que lea 4 calificaciones de un alumno, calcular y desplegar el promedio acompañado de la leyenda APROBADO o REPROBADO"
      ],
      "metadata": {
        "id": "MWmcF7RaiJhW"
      }
    },
    {
      "cell_type": "code",
      "source": [
        "cal1 = int(input(\"Ingrese la calificación 1: \"))\n",
        "cal2 = int(input(\"Ingrese la calificación 2: \"))\n",
        "cal3 = int(input(\"Ingrese la calificación 3: \"))\n",
        "cal4 = int(input(\"Ingrese la calificación 4: \"))\n",
        "prom = (cal1 + cal2 + cal3 + cal4) / 4\n",
        "\n",
        "if prom >= 60:\n",
        "    print(\"¡Aprobado!\")\n",
        "else:\n",
        "    print(\"¡Reprobado!\")"
      ],
      "metadata": {
        "colab": {
          "base_uri": "https://localhost:8080/"
        },
        "id": "_TwRvVXViLxN",
        "outputId": "b41ead6e-5895-4d02-8b6f-5753ecc0cdf8"
      },
      "execution_count": 12,
      "outputs": [
        {
          "output_type": "stream",
          "name": "stdout",
          "text": [
            "Ingrese la calificación 1: 59\n",
            "Ingrese la calificación 2: 59\n",
            "Ingrese la calificación 3: 59\n",
            "Ingrese la calificación 4: 59\n",
            "¡Reprobado!\n"
          ]
        }
      ]
    },
    {
      "cell_type": "markdown",
      "source": [
        "7.- Programa en Python que a través de opciones (1.- HOMBRE 2.- MUJER ) preguntar al usuario cual es su sexo y desplegar la leyenda “HOMBRE ”, “MUJER”"
      ],
      "metadata": {
        "id": "Gr2ok6r_iY9j"
      }
    },
    {
      "cell_type": "code",
      "source": [
        "sexo = int(input(\"¿Cuál es tu sexo? \"))\n",
        "\n",
        "if sexo == 1:\n",
        "    print(\"Eres Hombre\")\n",
        "else:\n",
        "    print(\"Eres Mujer\")"
      ],
      "metadata": {
        "colab": {
          "base_uri": "https://localhost:8080/"
        },
        "id": "iWLJ90qQiZ4U",
        "outputId": "acf28181-be9a-4b16-b24c-35073145b03a"
      },
      "execution_count": 14,
      "outputs": [
        {
          "output_type": "stream",
          "name": "stdout",
          "text": [
            "¿Cuál es tu sexo?2\n",
            "Eres Mujer\n"
          ]
        }
      ]
    },
    {
      "cell_type": "markdown",
      "source": [
        "8.- Programa en Python que lea un número entero, y desplegar si el número es “PAR” o “IMPAR” NOTA: EJERCICIOS PARA SER RESUELTOS USANDO EXCLUSIVAMENTE CONDICIONES COMPUESTO"
      ],
      "metadata": {
        "id": "d0DYZXAxil_f"
      }
    },
    {
      "cell_type": "code",
      "source": [
        "num = int(input(\"Ingresa un número: \"))\n",
        "\n",
        "if num %2 == 0:\n",
        "    print(\"Numero par\")\n",
        "else:\n",
        "    print(\"Numero impar\")"
      ],
      "metadata": {
        "colab": {
          "base_uri": "https://localhost:8080/"
        },
        "id": "M3NLJvdnimlg",
        "outputId": "b7fb0361-02ba-4b21-8173-649d053bdd85"
      },
      "execution_count": 16,
      "outputs": [
        {
          "output_type": "stream",
          "name": "stdout",
          "text": [
            "Ingresa un número: 3\n",
            "Numero impar\n"
          ]
        }
      ]
    }
  ]
}